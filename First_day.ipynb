{
 "cells": [
  {
   "cell_type": "markdown",
   "metadata": {},
   "source": [
    "<span style=\"color:blue\">Question 1. Write a Python program to extract a given number of randomly selected elements from a given list.</span>\n",
    "\n",
    "<span style=\"color:blue\">Original list:\n",
    "  [1, 1, 2, 3, 4, 4, 5, 1]</span>\n",
    "\n",
    "<span style=\"color:blue\">Selected 3 random numbers of the above list:\n",
    "  [1, 1, 4]</span>"
   ]
  },
  {
   "cell_type": "code",
   "execution_count": 1,
   "metadata": {},
   "outputs": [
    {
     "name": "stdout",
     "output_type": "stream",
     "text": [
      "Original list:\n",
      "[1, 1, 2, 3, 4, 4, 5, 1]\n",
      "\n",
      "Selected 3 random numbers of the above list:\n",
      "[1, 1, 3]\n"
     ]
    }
   ],
   "source": [
    "import random\n",
    "def random_select_nums(n_list, n):\n",
    "        return random.sample(n_list, n)\n",
    "n_list = [1,1,2,3,4,4,5,1]\n",
    "print(\"Original list:\") \n",
    "print(n_list)\n",
    "selec_nums = 3\n",
    "result = random_select_nums(n_list, selec_nums)\n",
    "print(\"\\nSelected 3 random numbers of the above list:\")\n",
    "print(result) "
   ]
  },
  {
   "cell_type": "markdown",
   "metadata": {},
   "source": [
    "<br>\n",
    "<br>\n",
    "<span style=\"color:blue\">Question 2: Write a Python program to change the position of every n-th value with the (n+1)th in a list.</span>\n",
    "\n",
    "<span style=\"color:blue\">Sample list: [0,1,2,3,4,5]</span>\n",
    "\n",
    "<span style=\"color:blue\">Expected Output: [1, 0, 3, 2, 5, 4]</span>"
   ]
  },
  {
   "cell_type": "code",
   "execution_count": 2,
   "metadata": {},
   "outputs": [
    {
     "name": "stdout",
     "output_type": "stream",
     "text": [
      "[1, 0, 3, 2, 5, 4]\n"
     ]
    }
   ],
   "source": [
    "from itertools import zip_longest, chain, tee\n",
    "def replace2copy(lst):\n",
    "    lst1, lst2 = tee(iter(lst), 2)\n",
    "    return list(chain.from_iterable(zip_longest(lst[1::2], lst[::2])))\n",
    "n = [0,1,2,3,4,5]\n",
    "print(replace2copy(n))"
   ]
  }
 ],
 "metadata": {
  "kernelspec": {
   "display_name": "Python 3",
   "language": "python",
   "name": "python3"
  },
  "language_info": {
   "codemirror_mode": {
    "name": "ipython",
    "version": 3
   },
   "file_extension": ".py",
   "mimetype": "text/x-python",
   "name": "python",
   "nbconvert_exporter": "python",
   "pygments_lexer": "ipython3",
   "version": "3.7.2"
  }
 },
 "nbformat": 4,
 "nbformat_minor": 4
}
