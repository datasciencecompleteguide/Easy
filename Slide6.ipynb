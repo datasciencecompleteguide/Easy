{
 "cells": [
  {
   "cell_type": "markdown",
   "metadata": {},
   "source": [
    "Question:  Given a Binary Tree, find the deepest leaf node that is left child of its parent. \n",
    "For example, consider the following tree. The deepest left leaf node is the node with value 9.\n",
    "\n",
    "Input:\n",
    "        \n",
    "         1\n",
    "     \n",
    "       /   \\\n",
    "    \n",
    "      2     3\n",
    "  \n",
    "     /      /  \\  \n",
    " \n",
    "    4      5    6\n",
    " \n",
    "           \\     \\\n",
    "         \n",
    "            7     8\n",
    "        \n",
    "           /       \\\n",
    "       \n",
    "         9         10\n",
    "       \n",
    "       \n",
    "Ouptut: 9"
   ]
  },
  {
   "cell_type": "code",
   "execution_count": 2,
   "metadata": {},
   "outputs": [
    {
     "name": "stdout",
     "output_type": "stream",
     "text": [
      "The deepst left child is 9\n"
     ]
    }
   ],
   "source": [
    " class Node:  \n",
    "    def __init__(self, val): \n",
    "        self.val = val  \n",
    "        self.left = None\n",
    "        self.right = None\n",
    "\n",
    "def deepestLeftLeafUtil(root, lvl, maxlvl, isLeft): \n",
    "    if root is None: \n",
    "        return\n",
    "\n",
    "    if(isLeft is True): \n",
    "        if (root.left == None and root.right == None): \n",
    "            if lvl > maxlvl[0] :  \n",
    "                deepestLeftLeafUtil.resPtr = root  \n",
    "                maxlvl[0] = lvl  \n",
    "                return\n",
    "   \n",
    "    deepestLeftLeafUtil(root.left, lvl+1, maxlvl, True) \n",
    "    deepestLeftLeafUtil(root.right, lvl+1, maxlvl, False) \n",
    "\n",
    "def deepestLeftLeaf(root): \n",
    "    maxlvl = [0] \n",
    "    deepestLeftLeafUtil.resPtr = None\n",
    "    deepestLeftLeafUtil(root, 0, maxlvl, False) \n",
    "    return deepestLeftLeafUtil.resPtr \n",
    "   \n",
    "root = Node(1) \n",
    "root.left = Node(2) \n",
    "root.right = Node(3) \n",
    "root.left.left = Node(4) \n",
    "root.right.left = Node(5) \n",
    "root.right.right = Node(6) \n",
    "root.right.left.right = Node(7) \n",
    "root.right.right.right = Node(8) \n",
    "root.right.left.right.left = Node(9) \n",
    "root.right.right.right.right= Node(10) \n",
    "  \n",
    "result = deepestLeftLeaf(root)  \n",
    "  \n",
    "if result is None: \n",
    "    print (\"There is not left leaf in the given tree\")\n",
    "else: \n",
    "    print (\"The deepst left child is\", result.val )"
   ]
  }
 ],
 "metadata": {
  "kernelspec": {
   "display_name": "Python 3",
   "language": "python",
   "name": "python3"
  },
  "language_info": {
   "codemirror_mode": {
    "name": "ipython",
    "version": 3
   },
   "file_extension": ".py",
   "mimetype": "text/x-python",
   "name": "python",
   "nbconvert_exporter": "python",
   "pygments_lexer": "ipython3",
   "version": "3.7.2"
  }
 },
 "nbformat": 4,
 "nbformat_minor": 4
}
