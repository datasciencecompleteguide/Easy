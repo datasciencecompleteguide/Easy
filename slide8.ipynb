{
 "cells": [
  {
   "cell_type": "markdown",
   "metadata": {},
   "source": [
    "Question:  Given an array of distinct positive integers arr[] of length N, the task is to count all the triplets such that sum of two elements equals the third element.\n",
    "\n",
    "Input: arr[] = {1, 5, 3, 2}\n",
    "\n",
    "Output: 2\n",
    "\n",
    "Explanation:\n",
    "In the given array, there are two such triplets such that sum of the two numbers is equal to the third number, those are –   \n",
    "    (1, 2, 3), (3, 2, 5)\n",
    "\n",
    "Input: arr[] = {3, 2, 7}\n",
    "\n",
    "Output: 0\n",
    "\n",
    "Explanation:\n",
    "In the given array there are no such triplets such that sum of two numbers is equal to the third number."
   ]
  },
  {
   "cell_type": "code",
   "execution_count": 1,
   "metadata": {},
   "outputs": [
    {
     "name": "stdout",
     "output_type": "stream",
     "text": [
      "2\n"
     ]
    }
   ],
   "source": [
    "def countTriplets(arr, n): \n",
    "    freq = [0 for i in range(100)] \n",
    "    \n",
    "    for i in range(n): \n",
    "        freq[arr[i]] += 1\n",
    "    count = 0 \n",
    "    \n",
    "    for i in range(n): \n",
    "        for j in range(i + 1, n, 1): \n",
    "            if(freq[arr[i] + arr[j]]): \n",
    "                count += 1\n",
    "    return count \n",
    "  \n",
    "\n",
    "if __name__ == '__main__': \n",
    "    n = 4\n",
    "    arr = [1, 5, 3, 2] \n",
    "    print(countTriplets(arr, n)) "
   ]
  }
 ],
 "metadata": {
  "kernelspec": {
   "display_name": "Python 3",
   "language": "python",
   "name": "python3"
  },
  "language_info": {
   "codemirror_mode": {
    "name": "ipython",
    "version": 3
   },
   "file_extension": ".py",
   "mimetype": "text/x-python",
   "name": "python",
   "nbconvert_exporter": "python",
   "pygments_lexer": "ipython3",
   "version": "3.7.2"
  }
 },
 "nbformat": 4,
 "nbformat_minor": 4
}
