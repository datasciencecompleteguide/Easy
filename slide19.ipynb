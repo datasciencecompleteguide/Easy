{
 "cells": [
  {
   "cell_type": "markdown",
   "metadata": {},
   "source": [
    "Given a distance ‘dist, count total number of ways to cover the distance with 1, 2 and 3 steps.\n",
    "\n",
    "Input: n = 3                                         \n",
    "Output: 4 \n",
    "\n",
    "Explanation: Below are the four ways     \n",
    "1 step + 1 step + 1 step    \n",
    "1 step + 2 step    \n",
    "2 step + 1 step    \n",
    "3 step   \n"
   ]
  },
  {
   "cell_type": "code",
   "execution_count": 1,
   "metadata": {},
   "outputs": [
    {
     "name": "stdout",
     "output_type": "stream",
     "text": [
      "7\n"
     ]
    }
   ],
   "source": [
    "def printCountRec(dist): \n",
    "    if dist < 0: \n",
    "        return 0\n",
    "          \n",
    "    if dist == 0: \n",
    "        return 1\n",
    "\n",
    "    return (printCountRec(dist-1) +\n",
    "            printCountRec(dist-2) +\n",
    "            printCountRec(dist-3)) \n",
    "  \n",
    "dist = 4\n",
    "print(printCountRec(dist))"
   ]
  }
 ],
 "metadata": {
  "kernelspec": {
   "display_name": "Python 3",
   "language": "python",
   "name": "python3"
  },
  "language_info": {
   "codemirror_mode": {
    "name": "ipython",
    "version": 3
   },
   "file_extension": ".py",
   "mimetype": "text/x-python",
   "name": "python",
   "nbconvert_exporter": "python",
   "pygments_lexer": "ipython3",
   "version": "3.7.2"
  }
 },
 "nbformat": 4,
 "nbformat_minor": 4
}
