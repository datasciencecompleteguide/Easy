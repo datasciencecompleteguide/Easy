{
 "cells": [
  {
   "cell_type": "markdown",
   "metadata": {},
   "source": [
    "Given a positive integer N, write a program to find the last digit of the Nth term from the Fibonnaci series and print it.\n",
    "\n",
    "Input:                                   \n",
    "4                                           \n",
    "1                                            \n",
    "5                                            \n",
    "14                                           \n",
    "300         \n",
    "\n",
    "Output:    \n",
    "1    \n",
    "5    \n",
    "7    \n",
    "0    \n",
    "\n",
    "Input:    \n",
    "The first line of input contains an integer T denoting the number of test cases. Then T test cases follow.The first line of each test case contains a positive integer N.\n",
    "\n",
    "Output:    \n",
    "Print out the last digit of Nth Fibonacci number."
   ]
  },
  {
   "cell_type": "code",
   "execution_count": 2,
   "metadata": {},
   "outputs": [
    {
     "name": "stdout",
     "output_type": "stream",
     "text": [
      "3\n",
      "1\n",
      "5\n",
      "7\n"
     ]
    }
   ],
   "source": [
    "def fib(n): \n",
    "  \n",
    "    F = [[1, 1], [1, 0]]; \n",
    "    if (n == 0): \n",
    "        return 0; \n",
    "    power(F, n - 1); \n",
    "  \n",
    "    return F[0][0]; \n",
    "\n",
    "def multiply(F, M): \n",
    "  \n",
    "    x = F[0][0] * M[0][0] + F[0][1] * M[1][0]; \n",
    "    y = F[0][0] * M[0][1] + F[0][1] * M[1][1]; \n",
    "    z = F[1][0] * M[0][0] + F[1][1] * M[1][0]; \n",
    "    w = F[1][0] * M[0][1] + F[1][1] * M[1][1]; \n",
    "  \n",
    "    F[0][0] = x; \n",
    "    F[0][1] = y; \n",
    "    F[1][0] = z; \n",
    "    F[1][1] = w; \n",
    "\n",
    "def power(F, n): \n",
    "  \n",
    "    if( n == 0 or n == 1): \n",
    "        return; \n",
    "    M = [[1, 1], [1, 0]]; \n",
    "  \n",
    "    power(F, int(n / 2)); \n",
    "    multiply(F, F); \n",
    "  \n",
    "    if (n % 2 != 0): \n",
    "        multiply(F, M); \n",
    "\n",
    "def findLastDigit(n): \n",
    "  return (fib(n) % 10); \n",
    "  \n",
    "n = 4; \n",
    "print(findLastDigit(n)); \n",
    "n = 1; \n",
    "print(findLastDigit(n)); \n",
    "n = 5; \n",
    "print(findLastDigit(n)); \n",
    "n = 14; \n",
    "print(findLastDigit(n)); "
   ]
  }
 ],
 "metadata": {
  "kernelspec": {
   "display_name": "Python 3",
   "language": "python",
   "name": "python3"
  },
  "language_info": {
   "codemirror_mode": {
    "name": "ipython",
    "version": 3
   },
   "file_extension": ".py",
   "mimetype": "text/x-python",
   "name": "python",
   "nbconvert_exporter": "python",
   "pygments_lexer": "ipython3",
   "version": "3.7.2"
  }
 },
 "nbformat": 4,
 "nbformat_minor": 4
}
