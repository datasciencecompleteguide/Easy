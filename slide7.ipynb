{
 "cells": [
  {
   "cell_type": "markdown",
   "metadata": {},
   "source": [
    "Question: Given an array of integers, you have to choose two such values (i and j) so that the fucntion\n",
    "\n",
    "f(i,j) = (nums[i]-1) * (nums[j]-1) = maximum  \n",
    "\n",
    "Input: [3,4,5,2]\n",
    "\n",
    "ouput: 12\n",
    "\n",
    "Explanation:\n",
    "If you choose the indices 1 and 2 as i and j then the \n",
    "f(i,j) = (nums[1]-1) * (nums[2]-1) = (4-1) * (5-1) =  3 * 4 = 12"
   ]
  },
  {
   "cell_type": "code",
   "execution_count": 9,
   "metadata": {},
   "outputs": [
    {
     "name": "stdout",
     "output_type": "stream",
     "text": [
      "12\n"
     ]
    }
   ],
   "source": [
    "arr = [3,4,5,2]\n",
    "sort = sorted(arr)\n",
    "print((sort[-1]-1)*(sort[-2]-1))"
   ]
  }
 ],
 "metadata": {
  "kernelspec": {
   "display_name": "Python 3",
   "language": "python",
   "name": "python3"
  },
  "language_info": {
   "codemirror_mode": {
    "name": "ipython",
    "version": 3
   },
   "file_extension": ".py",
   "mimetype": "text/x-python",
   "name": "python",
   "nbconvert_exporter": "python",
   "pygments_lexer": "ipython3",
   "version": "3.7.2"
  }
 },
 "nbformat": 4,
 "nbformat_minor": 4
}
