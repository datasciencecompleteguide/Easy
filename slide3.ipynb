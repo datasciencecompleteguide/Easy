{
 "cells": [
  {
   "cell_type": "markdown",
   "metadata": {},
   "source": [
    "Question:\n",
    "Given the string S, reverse the whole string without reversing the individual words in it. Words are seprated by dots.\n",
    "\n",
    "Input:    \n",
    "i.like.this.program.very.much\n",
    "\n",
    "Output:   \n",
    "much.very.program.this.like.i"
   ]
  },
  {
   "cell_type": "code",
   "execution_count": 3,
   "metadata": {},
   "outputs": [
    {
     "name": "stdout",
     "output_type": "stream",
     "text": [
      "Reversed String:\n",
      "much.very.program.this.like.i\n"
     ]
    }
   ],
   "source": [
    "s = \"i.like.this.program.very.much\"\n",
    "words = s.split('.') \n",
    "string =[] \n",
    "for word in words: \n",
    "    string.insert(0, word) \n",
    "  \n",
    "print(\"Reversed String:\") \n",
    "print(\".\".join(string)) "
   ]
  }
 ],
 "metadata": {
  "kernelspec": {
   "display_name": "Python 3",
   "language": "python",
   "name": "python3"
  },
  "language_info": {
   "codemirror_mode": {
    "name": "ipython",
    "version": 3
   },
   "file_extension": ".py",
   "mimetype": "text/x-python",
   "name": "python",
   "nbconvert_exporter": "python",
   "pygments_lexer": "ipython3",
   "version": "3.7.2"
  }
 },
 "nbformat": 4,
 "nbformat_minor": 4
}
