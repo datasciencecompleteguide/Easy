{
 "cells": [
  {
   "cell_type": "markdown",
   "metadata": {},
   "source": [
    "Question:   Given the positive integer n, find the minimum number of squares whose sum equals to given number n.\n",
    "\n",
    "Input:  n = 100\n",
    "\n",
    "Output: 1\n",
    "\n",
    "Explanation:    100 can be written as 102. Note that 100 can also be \n",
    "written as 52 + 52 + 52 + 52, but this\n",
    "representation requires 4 squares.\n",
    "\n",
    "Input:  n = 6\n",
    "\n",
    "Output: 3\n"
   ]
  },
  {
   "cell_type": "code",
   "execution_count": 1,
   "metadata": {},
   "outputs": [
    {
     "name": "stdout",
     "output_type": "stream",
     "text": [
      "3\n"
     ]
    }
   ],
   "source": [
    "def getMinNoSquares(n): \n",
    "    if n <= 3: \n",
    "        return n; \n",
    "    res = n \n",
    "    for x in range(1, n + 1): \n",
    "        temp = x * x; \n",
    "        if temp > n: \n",
    "            break\n",
    "        else: \n",
    "            res = min(res, 1 + getMinNoSquares(n  \n",
    "                                  - temp)) \n",
    "      \n",
    "    return res;   \n",
    "print(getMinNoSquares(6))"
   ]
  }
 ],
 "metadata": {
  "kernelspec": {
   "display_name": "Python 3",
   "language": "python",
   "name": "python3"
  },
  "language_info": {
   "codemirror_mode": {
    "name": "ipython",
    "version": 3
   },
   "file_extension": ".py",
   "mimetype": "text/x-python",
   "name": "python",
   "nbconvert_exporter": "python",
   "pygments_lexer": "ipython3",
   "version": "3.7.2"
  }
 },
 "nbformat": 4,
 "nbformat_minor": 4
}
