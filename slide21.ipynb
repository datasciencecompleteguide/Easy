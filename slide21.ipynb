{
 "cells": [
  {
   "cell_type": "markdown",
   "metadata": {},
   "source": [
    "Question:  Given pointer to the head node of a linked list, the task is to reverse the linked list. We need to reverse the list by changing links between nodes.\n",
    "\n",
    "Input: Head of following linked list    \n",
    "1->2->3->4->NULL    \n",
    "Output: Linked list should be changed to,    \n",
    "4->3->2->1->NULL    \n",
    "\n",
    "Input: Head of following linked list     \n",
    "1->2->3->4->5->NULL    \n",
    "Output: Linked list should be changed to,    \n",
    "5->4->3->2->1->NULL    \n",
    "\n",
    "Input: NULL     \n",
    "Output: NULL    \n",
    "\n",
    "Input: 1->NULL    \n",
    "Output: 1-> Null    "
   ]
  },
  {
   "cell_type": "code",
   "execution_count": 4,
   "metadata": {},
   "outputs": [
    {
     "name": "stdout",
     "output_type": "stream",
     "text": [
      "Given Linked List\n",
      "4\n",
      "3\n",
      "2\n",
      "1\n",
      "\n",
      "Reversed Linked List\n",
      "1\n",
      "2\n",
      "3\n",
      "4\n"
     ]
    }
   ],
   "source": [
    "class Node: \n",
    "    def __init__(self, data): \n",
    "        self.data = data \n",
    "        self.next = None\n",
    "  \n",
    "class LinkedList: \n",
    "    def __init__(self): \n",
    "        self.head = None\n",
    "\n",
    "    def reverse(self): \n",
    "        prev = None\n",
    "        current = self.head \n",
    "        while(current is not None): \n",
    "            next = current.next\n",
    "            current.next = prev \n",
    "            prev = current \n",
    "            current = next\n",
    "        self.head = prev \n",
    "\n",
    "    def push(self, new_data): \n",
    "        new_node = Node(new_data) \n",
    "        new_node.next = self.head \n",
    "        self.head = new_node \n",
    "\n",
    "    def printList(self): \n",
    "        temp = self.head \n",
    "        while(temp): \n",
    "            print(temp.data) \n",
    "            temp = temp.next\n",
    "\n",
    "llist = LinkedList() \n",
    "llist.push(1) \n",
    "llist.push(2) \n",
    "llist.push(3) \n",
    "llist.push(4) \n",
    "  \n",
    "print (\"Given Linked List\")\n",
    "llist.printList() \n",
    "llist.reverse() \n",
    "print (\"\\nReversed Linked List\")\n",
    "llist.printList() "
   ]
  }
 ],
 "metadata": {
  "kernelspec": {
   "display_name": "Python 3",
   "language": "python",
   "name": "python3"
  },
  "language_info": {
   "codemirror_mode": {
    "name": "ipython",
    "version": 3
   },
   "file_extension": ".py",
   "mimetype": "text/x-python",
   "name": "python",
   "nbconvert_exporter": "python",
   "pygments_lexer": "ipython3",
   "version": "3.7.2"
  }
 },
 "nbformat": 4,
 "nbformat_minor": 4
}
