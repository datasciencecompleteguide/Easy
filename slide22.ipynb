{
 "cells": [
  {
   "cell_type": "markdown",
   "metadata": {},
   "source": [
    "Question:  Given an array arr, replace every element in that array with the greatest element among the elements to its right, and replace the last element with -1. After doing so, return the array.\n",
    "\n",
    "Input: arr = {17,18,5,4,6,1}\n",
    "\n",
    "Output: [18,6,6,6,-1]\n"
   ]
  },
  {
   "cell_type": "code",
   "execution_count": 1,
   "metadata": {},
   "outputs": [
    {
     "name": "stdout",
     "output_type": "stream",
     "text": [
      "Modified array is\n",
      "18\n",
      "6\n",
      "6\n",
      "6\n",
      "1\n",
      "-1\n"
     ]
    }
   ],
   "source": [
    "def nextGreatest(arr): \n",
    "  \n",
    "    size = len(arr) \n",
    "\n",
    "    max_from_right = arr[size-1] \n",
    "\n",
    "    arr[size-1] = -1\n",
    "\n",
    "    for i in range(size-2,-1,-1): \n",
    "        temp = arr[i] \n",
    "        arr[i]=max_from_right \n",
    "        if max_from_right< temp: \n",
    "            max_from_right=temp \n",
    "\n",
    "def printArray(arr): \n",
    "    for i in range(0,len(arr)): \n",
    "        print (arr[i]) \n",
    "\n",
    "arr = [17, 18, 5, 4, 6, 1] \n",
    "nextGreatest(arr) \n",
    "print (\"Modified array is\")\n",
    "printArray(arr) "
   ]
  }
 ],
 "metadata": {
  "kernelspec": {
   "display_name": "Python 3",
   "language": "python",
   "name": "python3"
  },
  "language_info": {
   "codemirror_mode": {
    "name": "ipython",
    "version": 3
   },
   "file_extension": ".py",
   "mimetype": "text/x-python",
   "name": "python",
   "nbconvert_exporter": "python",
   "pygments_lexer": "ipython3",
   "version": "3.7.2"
  }
 },
 "nbformat": 4,
 "nbformat_minor": 4
}
